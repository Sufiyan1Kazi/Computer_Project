{
  "nbformat": 4,
  "nbformat_minor": 0,
  "metadata": {
    "colab": {
      "provenance": [],
      "include_colab_link": true
    },
    "kernelspec": {
      "name": "python3",
      "display_name": "Python 3"
    },
    "language_info": {
      "name": "python"
    }
  },
  "cells": [
    {
      "cell_type": "markdown",
      "metadata": {
        "id": "view-in-github",
        "colab_type": "text"
      },
      "source": [
        "<a href=\"https://colab.research.google.com/github/Sufiyan1Kazi/Computer_Project/blob/main/Python_Final.ipynb\" target=\"_parent\"><img src=\"https://colab.research.google.com/assets/colab-badge.svg\" alt=\"Open In Colab\"/></a>"
      ]
    },
    {
      "cell_type": "code",
      "source": [
        "1\n",
        "\n",
        "import math\n",
        "\n",
        "operation = 0\n",
        "while operation != 7:   # condition for user input\n",
        "    operation = int(input(\"Chose the operation to be implied.\\\n",
        "                          \\nEnter:1 for Addition\\\n",
        "                          \\nEnter:2 for Subtraction\\\n",
        "                          \\nEnter:3 for Multiplication\\\n",
        "                          \\nEnter:4 for Division\\\n",
        "                          \\nEnter:5 for Second power\\\n",
        "                          \\nEnter:6 for Square root\\\n",
        "                          \\nEnter:7 for Exit\\n\"))\n",
        "\n",
        "    if operation == 5 or operation == 6 :      # if statement\n",
        "        num = int(input(\"Enter the Number: \"))    # User input\n",
        "    elif operation == 1 or operation == 2 or operation == 3 or operation == 4:\n",
        "        num1 = int(input(\"Enter the first number: \"))     # User input\n",
        "        num2 = int(input(\"Enter the second number: \"))    # User input\n",
        "    elif operation == 7:  # If user chooses to exit\n",
        "        print(\"Goodbye\")\n",
        "    else:                 # For invalid input\n",
        "        print(\"Invalid Input\")\n",
        "\n",
        "    while operation != 7:    # condition for running the operation chosen by the user\n",
        "        if operation == 1:   # For Addition\n",
        "            print(\"The sum of the two number is: \",num1 + num2)\n",
        "            break\n",
        "        elif operation == 2: # For Subtraction\n",
        "            print(\"The substraction of the two number is: \",num1 - num2)\n",
        "            break\n",
        "        elif operation == 3: # For Multiplication\n",
        "            print(\"The product of the two number is: \",num1 * num2)\n",
        "            break\n",
        "        elif operation == 4: # For Division\n",
        "            print(\"The division of the two number is: \",num1 / num2)\n",
        "            break\n",
        "        elif operation == 5: # For Second power\n",
        "            print(\"The second power of the number is: \",num ** 2)\n",
        "            break\n",
        "        elif operation == 6: # For Square root\n",
        "            print(\"The square root of the number is: \",math.sqrt(num))\n",
        "            break"
      ],
      "metadata": {
        "id": "gVKzb42C6PlM",
        "colab": {
          "base_uri": "https://localhost:8080/"
        },
        "outputId": "8b16de60-44cf-4e81-9af8-b6f318863753"
      },
      "execution_count": 1,
      "outputs": [
        {
          "output_type": "stream",
          "name": "stdout",
          "text": [
            "Chose the operation to be implied.                          \n",
            "Enter:1 for Addition                          \n",
            "Enter:2 for Subtraction                          \n",
            "Enter:3 for Multiplication                          \n",
            "Enter:4 for Division                          \n",
            "Enter:5 for Second power                          \n",
            "Enter:6 for Square root                          \n",
            "Enter:7 for Exit\n",
            "1\n",
            "Enter the first number: 2\n",
            "Enter the second number: 2\n",
            "The sum of the two number is:  4\n",
            "Chose the operation to be implied.                          \n",
            "Enter:1 for Addition                          \n",
            "Enter:2 for Subtraction                          \n",
            "Enter:3 for Multiplication                          \n",
            "Enter:4 for Division                          \n",
            "Enter:5 for Second power                          \n",
            "Enter:6 for Square root                          \n",
            "Enter:7 for Exit\n",
            "2\n",
            "Enter the first number: 2\n",
            "Enter the second number: 2\n",
            "The substraction of the two number is:  0\n",
            "Chose the operation to be implied.                          \n",
            "Enter:1 for Addition                          \n",
            "Enter:2 for Subtraction                          \n",
            "Enter:3 for Multiplication                          \n",
            "Enter:4 for Division                          \n",
            "Enter:5 for Second power                          \n",
            "Enter:6 for Square root                          \n",
            "Enter:7 for Exit\n",
            "3\n",
            "Enter the first number: 11\n",
            "Enter the second number: 5\n",
            "The product of the two number is:  55\n",
            "Chose the operation to be implied.                          \n",
            "Enter:1 for Addition                          \n",
            "Enter:2 for Subtraction                          \n",
            "Enter:3 for Multiplication                          \n",
            "Enter:4 for Division                          \n",
            "Enter:5 for Second power                          \n",
            "Enter:6 for Square root                          \n",
            "Enter:7 for Exit\n",
            "4\n",
            "Enter the first number: 10\n",
            "Enter the second number: 2\n",
            "The division of the two number is:  5.0\n",
            "Chose the operation to be implied.                          \n",
            "Enter:1 for Addition                          \n",
            "Enter:2 for Subtraction                          \n",
            "Enter:3 for Multiplication                          \n",
            "Enter:4 for Division                          \n",
            "Enter:5 for Second power                          \n",
            "Enter:6 for Square root                          \n",
            "Enter:7 for Exit\n",
            "5\n",
            "Enter the Number: 6\n",
            "The second power of the number is:  36\n",
            "Chose the operation to be implied.                          \n",
            "Enter:1 for Addition                          \n",
            "Enter:2 for Subtraction                          \n",
            "Enter:3 for Multiplication                          \n",
            "Enter:4 for Division                          \n",
            "Enter:5 for Second power                          \n",
            "Enter:6 for Square root                          \n",
            "Enter:7 for Exit\n",
            "6\n",
            "Enter the Number: 16\n",
            "The square root of the number is:  4.0\n",
            "Chose the operation to be implied.                          \n",
            "Enter:1 for Addition                          \n",
            "Enter:2 for Subtraction                          \n",
            "Enter:3 for Multiplication                          \n",
            "Enter:4 for Division                          \n",
            "Enter:5 for Second power                          \n",
            "Enter:6 for Square root                          \n",
            "Enter:7 for Exit\n",
            "7\n",
            "Goodbye\n"
          ]
        }
      ]
    },
    {
      "cell_type": "code",
      "source": [],
      "metadata": {
        "id": "qTxnNIsxPETe"
      },
      "execution_count": null,
      "outputs": []
    },
    {
      "cell_type": "markdown",
      "source": [],
      "metadata": {
        "id": "9lx311Tp6S_0"
      }
    }
  ]
}